{
 "cells": [
  {
   "cell_type": "markdown",
   "id": "48147901",
   "metadata": {
    "id": "48147901"
   },
   "source": [
    "### Assignment-04 (List)\n",
    "- Change the notebook name with your name and Roll Number.\n",
    "- Try this as your own, no chatgpt (it's for your learning)\n",
    "- after completing the assignment, submit this book on google class room."
   ]
  },
  {
   "cell_type": "code",
   "execution_count": null,
   "id": "26b4d246",
   "metadata": {
    "id": "26b4d246"
   },
   "outputs": [],
   "source": []
  },
  {
   "cell_type": "markdown",
   "id": "4a0551ca",
   "metadata": {
    "id": "4a0551ca"
   },
   "source": [
    "Create an empty list and print it.\n"
   ]
  },
  {
   "cell_type": "code",
   "execution_count": 1,
   "id": "d2923b71",
   "metadata": {
    "id": "d2923b71"
   },
   "outputs": [
    {
     "name": "stdout",
     "output_type": "stream",
     "text": [
      "[]\n"
     ]
    }
   ],
   "source": [
    "l1=[]\n",
    "print(l1)\n"
   ]
  },
  {
   "cell_type": "markdown",
   "id": "fa6b638e",
   "metadata": {
    "id": "fa6b638e"
   },
   "source": [
    "Create a list of your favorite colors and print it.\n"
   ]
  },
  {
   "cell_type": "code",
   "execution_count": 3,
   "id": "c549875c",
   "metadata": {
    "id": "c549875c"
   },
   "outputs": [
    {
     "name": "stdout",
     "output_type": "stream",
     "text": [
      "Favorite colors: ['Black', 'Blue', 'Red', 'Green']\n"
     ]
    }
   ],
   "source": [
    "favorite_colors=[\"Black\",\"Blue\",\"Red\",\"Green\"]\n",
    "print(\"Favorite colors:\",favorite_colors)\n"
   ]
  },
  {
   "cell_type": "markdown",
   "id": "4a1371d4",
   "metadata": {
    "id": "4a1371d4"
   },
   "source": [
    "Create a list that includes a mix of data types (integers, strings, floats).\n"
   ]
  },
  {
   "cell_type": "code",
   "execution_count": 6,
   "id": "dfc878e2",
   "metadata": {
    "id": "dfc878e2"
   },
   "outputs": [
    {
     "name": "stdout",
     "output_type": "stream",
     "text": [
      "[1012, 'Awais Tahir', 12.11]\n"
     ]
    }
   ],
   "source": [
    "li=[1012,\"Awais Tahir\",12.11]\n",
    "print(li)"
   ]
  },
  {
   "cell_type": "markdown",
   "id": "2916cde7",
   "metadata": {
    "id": "2916cde7"
   },
   "source": [
    "Access the first element of a list.\n"
   ]
  },
  {
   "cell_type": "code",
   "execution_count": 7,
   "id": "a0a7b3d2",
   "metadata": {
    "id": "a0a7b3d2"
   },
   "outputs": [
    {
     "name": "stdout",
     "output_type": "stream",
     "text": [
      "AwaisTahir\n"
     ]
    }
   ],
   "source": [
    "li=[\"AwaisTahir\",1012,\"Talha\"]\n",
    "print(li[0])"
   ]
  },
  {
   "cell_type": "markdown",
   "id": "13b39ea7",
   "metadata": {
    "id": "13b39ea7"
   },
   "source": [
    "Access the last element of a list."
   ]
  },
  {
   "cell_type": "code",
   "execution_count": 8,
   "id": "4f8cf5da",
   "metadata": {
    "id": "4f8cf5da"
   },
   "outputs": [
    {
     "name": "stdout",
     "output_type": "stream",
     "text": [
      "Talha\n"
     ]
    }
   ],
   "source": [
    "li=[\"AwaisTahir\",1012,\"Talha\"]\n",
    "print(li[-1])"
   ]
  },
  {
   "cell_type": "markdown",
   "id": "ef7e0f8d",
   "metadata": {
    "id": "ef7e0f8d"
   },
   "source": [
    " Access the second and third elements of a list.\n"
   ]
  },
  {
   "cell_type": "code",
   "execution_count": 17,
   "id": "e215ceed",
   "metadata": {
    "id": "e215ceed"
   },
   "outputs": [
    {
     "name": "stdout",
     "output_type": "stream",
     "text": [
      "[1012, 'Ubaid']\n",
      "1012\n",
      "Ubaid\n"
     ]
    }
   ],
   "source": [
    "list=[\"Awais\", 1012,\"Ubaid\",1018,\"Arslan\",1032,\"Zain\",1041,\"Adnan\",1043]\n",
    "#we can print second and third elememt in one prompt \n",
    "print(list[1:3])\n",
    "#we can print second and third element in two prompt one by one\n",
    "print(list[1])\n",
    "print(list[2])"
   ]
  },
  {
   "cell_type": "markdown",
   "id": "16ef79f1",
   "metadata": {
    "id": "16ef79f1"
   },
   "source": [
    "\n",
    "Slice a list to extract the first three elements.\n"
   ]
  },
  {
   "cell_type": "code",
   "execution_count": 18,
   "id": "86d94d3c",
   "metadata": {
    "id": "86d94d3c"
   },
   "outputs": [
    {
     "name": "stdout",
     "output_type": "stream",
     "text": [
      "['Awais', 1012, 'Ubaid']\n"
     ]
    }
   ],
   "source": [
    "list=[\"Awais\", 1012,\"Ubaid\",1018,\"Arslan\",1032,\"Zain\",1041,\"Adnan\",1043]\n",
    "print(list[:3])"
   ]
  },
  {
   "cell_type": "markdown",
   "id": "717afad5",
   "metadata": {
    "id": "717afad5"
   },
   "source": [
    "Slice a list to extract the last three elements.\n"
   ]
  },
  {
   "cell_type": "code",
   "execution_count": 19,
   "id": "2f79b771",
   "metadata": {
    "id": "2f79b771"
   },
   "outputs": [
    {
     "name": "stdout",
     "output_type": "stream",
     "text": [
      "['Zain', 1041, 'Adnan', 1043]\n"
     ]
    }
   ],
   "source": [
    "list=[\"Awais\", 1012,\"Ubaid\",1018,\"Arslan\",1032,\"Zain\",1041,\"Adnan\",1043]\n",
    "print(list[6:])"
   ]
  },
  {
   "cell_type": "markdown",
   "id": "da7f582e",
   "metadata": {
    "id": "da7f582e"
   },
   "source": [
    "Slice a list to get every second element.\n"
   ]
  },
  {
   "cell_type": "code",
   "execution_count": 16,
   "id": "4edeea3d",
   "metadata": {
    "id": "4edeea3d"
   },
   "outputs": [
    {
     "name": "stdout",
     "output_type": "stream",
     "text": [
      "['Awais', 1012, 'Ubaid', 1018, 'Arslan', 1032, 'Zain', 1041, 'Adnan', 1043]\n"
     ]
    }
   ],
   "source": [
    "list=[\"Awais\", 1012,\"Ubaid\",1018,\"Arslan\",1032,\"Zain\",1041,\"Adnan\",1043]\n",
    "print(list[::])"
   ]
  },
  {
   "cell_type": "markdown",
   "id": "011bb9f7",
   "metadata": {
    "id": "011bb9f7"
   },
   "source": [
    "Reverse a list using slicing."
   ]
  },
  {
   "cell_type": "code",
   "execution_count": 20,
   "id": "c11e7110",
   "metadata": {
    "id": "c11e7110"
   },
   "outputs": [
    {
     "name": "stdout",
     "output_type": "stream",
     "text": [
      "[1043, 'Adnan', 1041, 'Zain', 1032, 'Arslan', 1018, 'Ubaid', 1012, 'Awais']\n"
     ]
    }
   ],
   "source": [
    "list=[\"Awais\", 1012,\"Ubaid\",1018,\"Arslan\",1032,\"Zain\",1041,\"Adnan\",1043]\n",
    "print(list[::-1])"
   ]
  },
  {
   "cell_type": "markdown",
   "id": "5f45b7a8",
   "metadata": {
    "id": "5f45b7a8"
   },
   "source": [
    " Create two lists and concatenate them.\n"
   ]
  },
  {
   "cell_type": "code",
   "execution_count": 21,
   "id": "2c210b01",
   "metadata": {
    "id": "2c210b01"
   },
   "outputs": [
    {
     "name": "stdout",
     "output_type": "stream",
     "text": [
      "['Name  :', 'Awais', 'Ubaid', 'Arslan', 'Zain', 'Adnan', 'Roll no: ', 1012, 1018, 1032, 1041, 1043]\n"
     ]
    }
   ],
   "source": [
    "list1=[\"Name  :\",\"Awais\",\"Ubaid\",\"Arslan\",\"Zain\",\"Adnan\"]\n",
    "list2=[\"Roll no: \",1012,1018,1032,1041,1043,]\n",
    "print(list1+list2)"
   ]
  },
  {
   "cell_type": "markdown",
   "id": "a6c019d7",
   "metadata": {
    "id": "a6c019d7"
   },
   "source": [
    "\n",
    "Repeat a list multiple times using the repetition operator"
   ]
  },
  {
   "cell_type": "code",
   "execution_count": 23,
   "id": "b40d10b9",
   "metadata": {
    "id": "b40d10b9"
   },
   "outputs": [
    {
     "name": "stdout",
     "output_type": "stream",
     "text": [
      "['Name  :', 'Awais', 'Ubaid', 'Arslan', 'Zain', 'Adnan', 'Name  :', 'Awais', 'Ubaid', 'Arslan', 'Zain', 'Adnan', 'Name  :', 'Awais', 'Ubaid', 'Arslan', 'Zain', 'Adnan', 'Name  :', 'Awais', 'Ubaid', 'Arslan', 'Zain', 'Adnan', 'Name  :', 'Awais', 'Ubaid', 'Arslan', 'Zain', 'Adnan']\n"
     ]
    }
   ],
   "source": [
    "list1=[\"Name  :\",\"Awais\",\"Ubaid\",\"Arslan\",\"Zain\",\"Adnan\"]\n",
    "print(list1*5)\n"
   ]
  },
  {
   "cell_type": "markdown",
   "id": "0fdf9b21",
   "metadata": {
    "id": "0fdf9b21"
   },
   "source": [
    "Add a new element to the end of a list using the append() method.\n"
   ]
  },
  {
   "cell_type": "code",
   "execution_count": 24,
   "id": "86906fc9",
   "metadata": {
    "id": "86906fc9"
   },
   "outputs": [
    {
     "name": "stdout",
     "output_type": "stream",
     "text": [
      "['Name  :', 'Awais', 'Ubaid', 'Arslan', 'Zain', 'Adnan', 'Basit']\n"
     ]
    }
   ],
   "source": [
    "list1=[\"Name  :\",\"Awais\",\"Ubaid\",\"Arslan\",\"Zain\",\"Adnan\"]\n",
    "list1.append(\"Basit\")\n",
    "print(list1)"
   ]
  },
  {
   "cell_type": "markdown",
   "id": "1812e852",
   "metadata": {
    "id": "1812e852"
   },
   "source": [
    "\n",
    "Extend a list with elements from another list using the extend() method.\n"
   ]
  },
  {
   "cell_type": "code",
   "execution_count": 27,
   "id": "375a8ac2",
   "metadata": {
    "id": "375a8ac2"
   },
   "outputs": [
    {
     "name": "stdout",
     "output_type": "stream",
     "text": [
      "['Name  :', 'Awais', 'Ubaid', 'Arslan', 'Zain', 'Adnan', 'Roll no: ', 1012, 1018, 1032, 1041, 1043]\n"
     ]
    }
   ],
   "source": [
    "list1=[\"Name  :\",\"Awais\",\"Ubaid\",\"Arslan\",\"Zain\",\"Adnan\"]\n",
    "list1.extend([\"Roll no: \",1012,1018,1032,1041,1043,])\n",
    "print(list1)"
   ]
  },
  {
   "cell_type": "markdown",
   "id": "b4285741",
   "metadata": {
    "id": "b4285741"
   },
   "source": [
    "Insert an element at a specific index in a list using the insert() method."
   ]
  },
  {
   "cell_type": "code",
   "execution_count": 33,
   "id": "5e5b2a93",
   "metadata": {
    "id": "5e5b2a93"
   },
   "outputs": [
    {
     "name": "stdout",
     "output_type": "stream",
     "text": [
      "['Name  :', 1012, 'Awais', 'Ubaid', 'Arslan', 'Zain', 'Adnan']\n"
     ]
    }
   ],
   "source": [
    "list1=[\"Name  :\",\"Awais\",\"Ubaid\",\"Arslan\",\"Zain\",\"Adnan\"]\n",
    "list1.insert(1,1012)\n",
    "print(list1)"
   ]
  },
  {
   "cell_type": "markdown",
   "id": "5926ef7b",
   "metadata": {
    "id": "5926ef7b"
   },
   "source": [
    " Remove the last element from a list using the pop() method.\n",
    "\n"
   ]
  },
  {
   "cell_type": "code",
   "execution_count": 37,
   "id": "4e3c8c6d",
   "metadata": {
    "id": "4e3c8c6d"
   },
   "outputs": [
    {
     "name": "stdout",
     "output_type": "stream",
     "text": [
      "['Name  :', 'Awais', 'Ubaid', 'Arslan', 'Zain']\n",
      "Adnan\n"
     ]
    }
   ],
   "source": [
    "list1=[\"Name  :\",\"Awais\",\"Ubaid\",\"Arslan\",\"Zain\",\"Adnan\"]\n",
    "x=list1.pop(5)\n",
    "print(list1)\n",
    "print(x)"
   ]
  },
  {
   "cell_type": "markdown",
   "id": "34faaad1",
   "metadata": {
    "id": "34faaad1"
   },
   "source": [
    "Remove a specific element from a list using the remove() method.\n"
   ]
  },
  {
   "cell_type": "code",
   "execution_count": 40,
   "id": "2706c63d",
   "metadata": {
    "id": "2706c63d"
   },
   "outputs": [
    {
     "name": "stdout",
     "output_type": "stream",
     "text": [
      "['Name  :', 'Awais', 'Ubaid', 'Arslan', 'Zain']\n",
      "None\n"
     ]
    }
   ],
   "source": [
    "list1=[\"Name  :\",\"Awais\",\"Ubaid\",\"Arslan\",\"Zain\",\"Adnan\"]\n",
    "x=list1.remove(\"Adnan\")\n",
    "print(list1)\n",
    "print(x)"
   ]
  },
  {
   "cell_type": "markdown",
   "id": "b066a57c",
   "metadata": {
    "id": "b066a57c"
   },
   "source": [
    "Clear all elements from a list.\n"
   ]
  },
  {
   "cell_type": "code",
   "execution_count": 42,
   "id": "a4cb30f8",
   "metadata": {
    "id": "a4cb30f8"
   },
   "outputs": [
    {
     "name": "stdout",
     "output_type": "stream",
     "text": [
      "[]\n"
     ]
    }
   ],
   "source": [
    "list1=[\"Name  :\",\"Awais\",\"Ubaid\",\"Arslan\",\"Zain\",\"Adnan\"]\n",
    "list1.clear()\n",
    "print(list1)"
   ]
  },
  {
   "cell_type": "markdown",
   "id": "f9d4754d",
   "metadata": {
    "id": "f9d4754d"
   },
   "source": [
    "Delete an element at a specific index using the del statement."
   ]
  },
  {
   "cell_type": "code",
   "execution_count": 44,
   "id": "adbc06c2",
   "metadata": {
    "id": "adbc06c2"
   },
   "outputs": [
    {
     "name": "stdout",
     "output_type": "stream",
     "text": [
      "['Awais', 'Ubaid', 'Arslan', 'Zain', 'Adnan']\n"
     ]
    }
   ],
   "source": [
    "list1=[\"Name  :\",\"Awais\",\"Ubaid\",\"Arslan\",\"Zain\",\"Adnan\"]\n",
    "del list1[0]\n",
    "print(list1)"
   ]
  },
  {
   "cell_type": "markdown",
   "id": "6fda5133",
   "metadata": {
    "id": "6fda5133"
   },
   "source": [
    "Convert a string to a list of characters and vice-versa."
   ]
  },
  {
   "cell_type": "code",
   "execution_count": 3,
   "id": "7c9fe1dc",
   "metadata": {
    "id": "7c9fe1dc"
   },
   "outputs": [
    {
     "name": "stdout",
     "output_type": "stream",
     "text": [
      "['A', 'w', 'a', 'i', 's', ' ', 'T', 'a', 'h', 'i', 'r']\n",
      "Awais Tahir\n"
     ]
    }
   ],
   "source": [
    "string=\"Awais Tahir\"\n",
    "Make_list=list(string)\n",
    "print(Make_list)\n",
    "Make_string=\"\".join(Make_list)\n",
    "print(Make_string)"
   ]
  },
  {
   "cell_type": "code",
   "execution_count": null,
   "id": "617e14c5",
   "metadata": {
    "id": "617e14c5",
    "outputId": "cd7a24fe-55e0-4d68-c6aa-be3458ad0b9f"
   },
   "outputs": [
    {
     "ename": "SyntaxError",
     "evalue": "invalid syntax (2664476093.py, line 1)",
     "output_type": "error",
     "traceback": [
      "\u001b[1;36m  Cell \u001b[1;32mIn[1], line 1\u001b[1;36m\u001b[0m\n\u001b[1;33m    Sort a list in ascending order using the sort() method.\u001b[0m\n\u001b[1;37m         ^\u001b[0m\n\u001b[1;31mSyntaxError\u001b[0m\u001b[1;31m:\u001b[0m invalid syntax\n"
     ]
    }
   ],
   "source": [
    "Sort a list in ascending order using the sort() method.\n"
   ]
  },
  {
   "cell_type": "code",
   "execution_count": 6,
   "id": "749b040c",
   "metadata": {
    "id": "749b040c"
   },
   "outputs": [
    {
     "name": "stdout",
     "output_type": "stream",
     "text": [
      "[1, 2, 4, 4, 5, 5, 6, 7, 9]\n"
     ]
    }
   ],
   "source": [
    "list=[2,5,4,5,6,4,7,9,1]\n",
    "list.sort()\n",
    "print(list)"
   ]
  },
  {
   "cell_type": "code",
   "execution_count": null,
   "id": "8a1c1820",
   "metadata": {
    "id": "8a1c1820"
   },
   "outputs": [],
   "source": [
    "\n",
    "Sort a list in descending order using the sort() method.\n"
   ]
  },
  {
   "cell_type": "code",
   "execution_count": 7,
   "id": "9d3b86b3",
   "metadata": {
    "id": "9d3b86b3"
   },
   "outputs": [
    {
     "name": "stdout",
     "output_type": "stream",
     "text": [
      "[9, 7, 6, 5, 5, 4, 4, 2, 1]\n"
     ]
    }
   ],
   "source": [
    "list=[2,5,4,5,6,4,7,9,1]\n",
    "list.sort(reverse=True)\n",
    "print(list)"
   ]
  },
  {
   "cell_type": "markdown",
   "id": "04c5419a",
   "metadata": {
    "id": "04c5419a"
   },
   "source": [
    "Reverse the order of a list using the reverse() method.\n"
   ]
  },
  {
   "cell_type": "code",
   "execution_count": 9,
   "id": "f0eac28f",
   "metadata": {
    "id": "f0eac28f"
   },
   "outputs": [
    {
     "name": "stdout",
     "output_type": "stream",
     "text": [
      "[1, 9, 7, 4, 6, 5, 4, 5, 2]\n"
     ]
    }
   ],
   "source": [
    "list=[2,5,4,5,6,4,7,9,1]\n",
    "list.reverse()\n",
    "print(list)"
   ]
  },
  {
   "cell_type": "markdown",
   "id": "ea816319",
   "metadata": {
    "id": "ea816319"
   },
   "source": [
    "Check if an element is present in a list using the in operator.\n"
   ]
  },
  {
   "cell_type": "code",
   "execution_count": 21,
   "id": "db2e8041",
   "metadata": {
    "id": "db2e8041"
   },
   "outputs": [
    {
     "name": "stdout",
     "output_type": "stream",
     "text": [
      "Awais is in the list.\n"
     ]
    }
   ],
   "source": [
    "list=[\"Awais\",\"Ubaid\",\"Arslan\",\"Zain\",\"Adnan\"]\n",
    "check= 'Awais'\n",
    "if check in list:\n",
    "    print(f\"{check} is in the list.\")\n",
    "else:\n",
    "    print(f\"{check} is not in the list.\")"
   ]
  },
  {
   "cell_type": "markdown",
   "id": "f17e9e0a",
   "metadata": {
    "id": "f17e9e0a"
   },
   "source": [
    "Compare two lists to see if they are equal in both value and identity.\n"
   ]
  },
  {
   "cell_type": "code",
   "execution_count": 19,
   "id": "cc5763b1",
   "metadata": {
    "id": "cc5763b1"
   },
   "outputs": [
    {
     "name": "stdout",
     "output_type": "stream",
     "text": [
      "List1 and List2 have equal values: True\n",
      "List1 and List2 have equal identity: False\n"
     ]
    }
   ],
   "source": [
    "# Creating two lists\n",
    "list1 = [1, 2, 3]\n",
    "list2 = [1, 2, 3]\n",
    "equal_value = list1 == list2  \n",
    "equal_identity = list1 is list2\n",
    "print(\"List1 and List2 have equal values:\", equal_value)\n",
    "print(\"List1 and List2 have equal identity:\", equal_identity)\n",
    "\n"
   ]
  },
  {
   "cell_type": "markdown",
   "id": "19d815f3",
   "metadata": {
    "id": "19d815f3"
   },
   "source": [
    "Create a shallow copy of a list and modify one of the lists to observe the effects on the other.\n"
   ]
  },
  {
   "cell_type": "code",
   "execution_count": 22,
   "id": "92979606",
   "metadata": {
    "id": "92979606"
   },
   "outputs": [
    {
     "name": "stdout",
     "output_type": "stream",
     "text": [
      "Original List: [1, 2, ['Changed', 4], 5]\n",
      "Shallow Copy: [1, 2, ['Changed', 4], 5]\n"
     ]
    }
   ],
   "source": [
    "original_list = [1, 2, [3, 4], 5]\n",
    "shallow_copy = original_list.copy()\n",
    "shallow_copy[2][0] = 'Changed'\n",
    "print(\"Original List:\", original_list)\n",
    "print(\"Shallow Copy:\", shallow_copy)\n"
   ]
  },
  {
   "cell_type": "markdown",
   "id": "6c8f1702",
   "metadata": {
    "id": "6c8f1702"
   },
   "source": [
    "Create a deep copy of a nested list and modify one of the lists to observe the effects on the other."
   ]
  },
  {
   "cell_type": "code",
   "execution_count": 23,
   "id": "87a8af6d",
   "metadata": {
    "id": "87a8af6d"
   },
   "outputs": [
    {
     "name": "stdout",
     "output_type": "stream",
     "text": [
      "Original List: [1, 2, [3, 4], 5]\n",
      "Deep Copy: [1, 2, ['Changed', 4], 5]\n"
     ]
    }
   ],
   "source": [
    "import copy\n",
    "original = [1, 2, [3, 4], 5]\n",
    "deep_copy = copy.deepcopy(original)\n",
    "deep_copy[2][0] = 'Changed'\n",
    "print(\"Original List:\", original)\n",
    "print(\"Deep Copy:\", deep_copy)\n"
   ]
  },
  {
   "cell_type": "markdown",
   "id": "c52154a0",
   "metadata": {
    "id": "c52154a0"
   },
   "source": [
    "Pickle and Unpickle a list and display its content."
   ]
  },
  {
   "cell_type": "code",
   "execution_count": null,
   "id": "2c97aff5",
   "metadata": {
    "id": "2c97aff5"
   },
   "outputs": [],
   "source": []
  },
  {
   "cell_type": "code",
   "execution_count": null,
   "id": "9415e114",
   "metadata": {
    "id": "9415e114"
   },
   "outputs": [],
   "source": []
  }
 ],
 "metadata": {
  "colab": {
   "provenance": []
  },
  "kernelspec": {
   "display_name": "Python 3 (ipykernel)",
   "language": "python",
   "name": "python3"
  },
  "language_info": {
   "codemirror_mode": {
    "name": "ipython",
    "version": 3
   },
   "file_extension": ".py",
   "mimetype": "text/x-python",
   "name": "python",
   "nbconvert_exporter": "python",
   "pygments_lexer": "ipython3",
   "version": "3.12.4"
  }
 },
 "nbformat": 4,
 "nbformat_minor": 5
}
