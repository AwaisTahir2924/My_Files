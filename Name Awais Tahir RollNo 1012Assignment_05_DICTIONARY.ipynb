{
 "cells": [
  {
   "cell_type": "markdown",
   "id": "d3b1242a",
   "metadata": {},
   "source": [
    "### Assignment-05 (DICTIONARY)\n",
    "- Change the notebook name with your name and Roll Number.\n",
    "- Try this as your own, no chatgpt (it's for your learning)\n",
    "- after completing the assignment, submit this book on google class room."
   ]
  },
  {
   "cell_type": "markdown",
   "id": "3079cae1",
   "metadata": {},
   "source": [
    "    Create an empty dictionary and print it.\n"
   ]
  },
  {
   "cell_type": "code",
   "execution_count": 2,
   "id": "1e0b1c0d",
   "metadata": {},
   "outputs": [
    {
     "name": "stdout",
     "output_type": "stream",
     "text": [
      "{}\n",
      "<class 'dict'>\n"
     ]
    }
   ],
   "source": [
    "dic={}\n",
    "print(dic)\n",
    "print(type(dic))"
   ]
  },
  {
   "cell_type": "markdown",
   "id": "c02f03e9",
   "metadata": {},
   "source": [
    "    Create a dictionary representing a person with keys such as 'name', 'age', and 'city'.\n"
   ]
  },
  {
   "cell_type": "code",
   "execution_count": 5,
   "id": "1c55f8a0",
   "metadata": {},
   "outputs": [
    {
     "name": "stdout",
     "output_type": "stream",
     "text": [
      "{'name': ['Awais', 'Zain', 'Arslan', 'Adnan', 'Ubaid'], 'age': 20, 'City': ['Pattoki', '50D', 'Phool nagar', ' Habibaad']}\n"
     ]
    }
   ],
   "source": [
    "dic={ 'Name':  ['Awais',],\n",
    "     'Age' : 21,\n",
    "     'City' : ['Pattoki',]\n",
    "     \n",
    "    }\n",
    "print(dic)"
   ]
  },
  {
   "cell_type": "markdown",
   "id": "3de2a866",
   "metadata": {},
   "source": [
    "    Create a dictionary that includes keys with different data types (strings, integers)."
   ]
  },
  {
   "cell_type": "code",
   "execution_count": 7,
   "id": "89c0b2ee",
   "metadata": {},
   "outputs": [
    {
     "name": "stdout",
     "output_type": "stream",
     "text": [
      "{'Name': 'Awais', 'Roll no': 1012}\n"
     ]
    }
   ],
   "source": [
    "dic={ 'Name' : 'Awais',\n",
    "     'Roll no' : 1012,\n",
    "    }\n",
    "print(dic)"
   ]
  },
  {
   "cell_type": "markdown",
   "id": "41ce050c",
   "metadata": {},
   "source": [
    "Access and print the value associated with a specific key."
   ]
  },
  {
   "cell_type": "code",
   "execution_count": 25,
   "id": "ec5dbc94",
   "metadata": {},
   "outputs": [
    {
     "name": "stdout",
     "output_type": "stream",
     "text": [
      "['Awais']\n"
     ]
    }
   ],
   "source": [
    "dic={ 'Name':  ['Awais',],\n",
    "     'Age' : 21,\n",
    "     'City' : ['Pattoki',]\n",
    "     \n",
    "    }\n",
    "keys=dic['Name']\n",
    "print(keys)"
   ]
  },
  {
   "cell_type": "markdown",
   "id": "b6b0c37d",
   "metadata": {},
   "source": [
    "    Use the get() method to access a value, providing a default value if the key is not present.\n"
   ]
  },
  {
   "cell_type": "code",
   "execution_count": 19,
   "id": "7aa9e88c",
   "metadata": {},
   "outputs": [
    {
     "name": "stdout",
     "output_type": "stream",
     "text": [
      "None\n"
     ]
    }
   ],
   "source": [
    "dic={ 'Name':  ['Awais',],\n",
    "     'Age' : 21,\n",
    "     'City' : ['Pattoki',]\n",
    "     \n",
    "    }\n",
    "print(dic.get('marks'))"
   ]
  },
  {
   "cell_type": "markdown",
   "id": "fd070da0",
   "metadata": {},
   "source": [
    "    Iterate through the keys of a dictionary and print each key."
   ]
  },
  {
   "cell_type": "code",
   "execution_count": 14,
   "id": "20a421cc",
   "metadata": {},
   "outputs": [
    {
     "name": "stdout",
     "output_type": "stream",
     "text": [
      "name\n",
      "age\n",
      "City\n"
     ]
    }
   ],
   "source": [
    "dic={ 'Name':  ['Awais',],\n",
    "     'Age' : 21,\n",
    "     'City' : ['Pattoki',]\n",
    "     \n",
    "    }\n",
    "for key in dic:\n",
    "    print(key)"
   ]
  },
  {
   "cell_type": "markdown",
   "id": "b743bd62",
   "metadata": {},
   "source": [
    "Add a new key-value pair to a dictionary."
   ]
  },
  {
   "cell_type": "code",
   "execution_count": 15,
   "id": "db404144",
   "metadata": {},
   "outputs": [
    {
     "name": "stdout",
     "output_type": "stream",
     "text": [
      "{'name': ['Awais', 'Zain', 'Arslan', 'Adnan', 'Ubaid'], 'age': 20, 'City': ['Pattoki', '50D', 'Phool nagar', ' Habibaad'], 'Relation': 'Friends'}\n"
     ]
    }
   ],
   "source": [
    "dic={ 'name':  ['Awais','Zain','Arslan','Adnan','Ubaid'],\n",
    "     'age' : 20,\n",
    "     'City' : ['Pattoki','50D','Phool nagar',' Habibaad']\n",
    "     \n",
    "    }\n",
    "dic['Relation']='Friends'\n",
    "print(dic)"
   ]
  },
  {
   "cell_type": "markdown",
   "id": "ef13537b",
   "metadata": {},
   "source": [
    "Modify the value associated with an existing key."
   ]
  },
  {
   "cell_type": "code",
   "execution_count": 24,
   "id": "5e655290",
   "metadata": {},
   "outputs": [
    {
     "name": "stdout",
     "output_type": "stream",
     "text": [
      "{'Name': ['Awais'], 'Age': 23, 'City': ['Pattoki']}\n"
     ]
    }
   ],
   "source": [
    "dic={ 'Name':  ['Awais',],\n",
    "     'Age' : 21,\n",
    "     'City' : ['Pattoki',]\n",
    "     \n",
    "    }\n",
    "dic['Age']=23\n",
    "print(dic)"
   ]
  },
  {
   "cell_type": "markdown",
   "id": "2ff9fb92",
   "metadata": {},
   "source": [
    "Remove a specific key-value pair from a dictionary using the pop() method.\n",
    "\n"
   ]
  },
  {
   "cell_type": "code",
   "execution_count": 17,
   "id": "1bdb4169",
   "metadata": {},
   "outputs": [
    {
     "name": "stdout",
     "output_type": "stream",
     "text": [
      "{'name': ['Awais', 'Zain', 'Arslan', 'Adnan', 'Ubaid'], 'City': ['Pattoki', '50D', 'Phool nagar', ' Habibaad']}\n"
     ]
    }
   ],
   "source": [
    "dic={ 'name':  ['Awais','Zain','Arslan','Adnan','Ubaid'],\n",
    "     'age' : 20,\n",
    "     'City' : ['Pattoki','50D','Phool nagar',' Habibaad']\n",
    "     \n",
    "    }\n",
    "dic.pop('age')\n",
    "print(dic)"
   ]
  },
  {
   "cell_type": "markdown",
   "id": "edc2abf7",
   "metadata": {},
   "source": [
    "    Remove a specific key-value pair from a dictionary using the del statement."
   ]
  },
  {
   "cell_type": "code",
   "execution_count": 27,
   "id": "538eca73",
   "metadata": {},
   "outputs": [
    {
     "name": "stdout",
     "output_type": "stream",
     "text": [
      "{'age': 20, 'City': ['Pattoki', '50D', 'Phool nagar', ' Habibaad']}\n"
     ]
    }
   ],
   "source": [
    "dic={ 'name':  ['Awais','Zain','Arslan','Adnan','Ubaid'],\n",
    "     'age' : 20,\n",
    "     'City' : ['Pattoki','50D','Phool nagar',' Habibaad']\n",
    "     \n",
    "    }\n",
    "del dic['name']\n",
    "print(dic)"
   ]
  },
  {
   "cell_type": "markdown",
   "id": "0f2d7e6a",
   "metadata": {},
   "source": [
    "Convert a dictionary to a list of keys."
   ]
  },
  {
   "cell_type": "code",
   "execution_count": 34,
   "id": "5705250c",
   "metadata": {},
   "outputs": [
    {
     "name": "stdout",
     "output_type": "stream",
     "text": [
      "['Name', 'Age', 'City']\n"
     ]
    }
   ],
   "source": [
    "dic={ 'Name':  'Awais',\n",
    "     'Age' : 21,\n",
    "     'City' : 'Pattoki',\n",
    "     \n",
    "    }\n",
    "list1=list(dic.keys())\n",
    "print(list1)"
   ]
  },
  {
   "cell_type": "markdown",
   "id": "1191e090",
   "metadata": {},
   "source": [
    "    Convert a dictionary to a list of values.\n"
   ]
  },
  {
   "cell_type": "code",
   "execution_count": 35,
   "id": "e89b908a",
   "metadata": {},
   "outputs": [
    {
     "name": "stdout",
     "output_type": "stream",
     "text": [
      "['Awais', 21, 'Pattoki']\n"
     ]
    }
   ],
   "source": [
    "dic={ 'Name':  'Awais',\n",
    "     'Age' : 21,\n",
    "     'City' : 'Pattoki',\n",
    "     \n",
    "    }\n",
    "lis=list(dic.values())\n",
    "print(lis)"
   ]
  },
  {
   "cell_type": "markdown",
   "id": "f72c7f5e",
   "metadata": {},
   "source": [
    "    Convert a list of tuples to a dictionary."
   ]
  },
  {
   "cell_type": "code",
   "execution_count": 18,
   "id": "c98b6a28-757a-4ba4-8ac0-4f42e2893c41",
   "metadata": {},
   "outputs": [
    {
     "name": "stdout",
     "output_type": "stream",
     "text": [
      "{'name': 'Awais', 'Age': 21, 'Cours': 'Python'}\n"
     ]
    }
   ],
   "source": [
    "list_of_tuple=[('name','Awais'),('Age',21),('Cours','Python')]\n",
    "my_dic=dict(list_of_tuple)\n",
    "print(my_dic)"
   ]
  },
  {
   "cell_type": "markdown",
   "id": "8ce9bedf",
   "metadata": {},
   "source": [
    "Use the keys() method to get a list of keys in a dictionary.\n"
   ]
  },
  {
   "cell_type": "code",
   "execution_count": 21,
   "id": "7d975a45",
   "metadata": {},
   "outputs": [
    {
     "name": "stdout",
     "output_type": "stream",
     "text": [
      "dict_keys(['name', 'age', 'City'])\n"
     ]
    }
   ],
   "source": [
    "dic={ 'name':  ['Awais','Zain','Arslan','Adnan','Ubaid'],\n",
    "     'age' : 20,\n",
    "     'City' : ['Pattoki','50D','Phool nagar',' Habibaad']\n",
    "    }\n",
    "print(dic.keys())"
   ]
  },
  {
   "cell_type": "markdown",
   "id": "8adb7c9d",
   "metadata": {},
   "source": [
    "\n",
    "    Use the values() method to get a list of values in a dictionary.\n"
   ]
  },
  {
   "cell_type": "code",
   "execution_count": 20,
   "id": "fb8a455c",
   "metadata": {},
   "outputs": [
    {
     "name": "stdout",
     "output_type": "stream",
     "text": [
      "dict_values([['Awais', 'Zain', 'Arslan', 'Adnan', 'Ubaid'], 20, ['Pattoki', '50D', 'Phool nagar', ' Habibaad']])\n"
     ]
    }
   ],
   "source": [
    "dic={ 'name':  ['Awais','Zain','Arslan','Adnan','Ubaid'],\n",
    "     'age' : 20,\n",
    "     'City' : ['Pattoki','50D','Phool nagar',' Habibaad']\n",
    "    }\n",
    "print(dic.values())"
   ]
  },
  {
   "cell_type": "markdown",
   "id": "b4b044e4",
   "metadata": {},
   "source": [
    "    Use the items() method to get a list of key-value pairs in a dictionary."
   ]
  },
  {
   "cell_type": "code",
   "execution_count": 19,
   "id": "ca390b74",
   "metadata": {},
   "outputs": [
    {
     "name": "stdout",
     "output_type": "stream",
     "text": [
      "dict_items([('name', 'Awais'), ('age', 20), ('City', 'Pattoki')])\n"
     ]
    }
   ],
   "source": [
    "dic={ 'name':  'Awais',\n",
    "     'age' : 20,\n",
    "     'City' : 'Pattoki',\n",
    "    }\n",
    "print(dic.items())"
   ]
  },
  {
   "cell_type": "markdown",
   "id": "bd4eb41b",
   "metadata": {},
   "source": [
    "Check if a key is present in a dictionary using the in operator.\n",
    "\n"
   ]
  },
  {
   "cell_type": "code",
   "execution_count": 23,
   "id": "39c2a92f",
   "metadata": {},
   "outputs": [
    {
     "name": "stdout",
     "output_type": "stream",
     "text": [
      "The Key is Present in the Dictionary\n"
     ]
    }
   ],
   "source": [
    "dic={ 'name':  ['Awais','Zain','Arslan','Adnan','Ubaid'],\n",
    "     'age' : 20,\n",
    "     'City' : ['Pattoki','50D','Phool nagar',' Habibaad']\n",
    "    }\n",
    "if 'name'in dic:\n",
    "    print('The Key is Present in the Dictionary')\n",
    "else:\n",
    "    print('The key is not Present in the Dictionary')\n",
    "    \n"
   ]
  },
  {
   "cell_type": "markdown",
   "id": "ba80007f",
   "metadata": {},
   "source": [
    "    Use the setdefault() method to add a key with a default value if it doesn't exist.\n"
   ]
  },
  {
   "cell_type": "code",
   "execution_count": 24,
   "id": "cc19bd44",
   "metadata": {},
   "outputs": [
    {
     "name": "stdout",
     "output_type": "stream",
     "text": [
      "{'name': 'Awais', 'age': 20, 'City': 'Pattoki', 'Roll no': 1012}\n"
     ]
    }
   ],
   "source": [
    "dic={ 'name':  'Awais',\n",
    "     'age' : 20,\n",
    "     'City' : 'Pattoki'\n",
    "    }\n",
    "dic.setdefault( 'Roll no', 1012,\n",
    "      )\n",
    "print(dic)"
   ]
  },
  {
   "cell_type": "markdown",
   "id": "5dd9b173",
   "metadata": {},
   "source": [
    "    Merge two dictionaries using the update() method.\n"
   ]
  },
  {
   "cell_type": "code",
   "execution_count": 25,
   "id": "05e95981",
   "metadata": {},
   "outputs": [
    {
     "name": "stdout",
     "output_type": "stream",
     "text": [
      "{'name': 'Awais', 'age': 20, 'City': 'Pattoki', 'Roll no': 1012, 'Blood Group': 'A+'}\n"
     ]
    }
   ],
   "source": [
    "dic={ 'name':  'Awais',\n",
    "     'age' : 20,\n",
    "     'City' : 'Pattoki'\n",
    "    }\n",
    "dic2={ 'Roll no' : 1012,\n",
    "      'Blood Group' : 'A+'\n",
    "     }\n",
    "dic.update(dic2)\n",
    "print(dic)"
   ]
  },
  {
   "cell_type": "markdown",
   "id": "1415c188",
   "metadata": {},
   "source": [
    "    Use the clear() method to remove all elements from a dictionary."
   ]
  },
  {
   "cell_type": "code",
   "execution_count": 1,
   "id": "bdf48d4c",
   "metadata": {},
   "outputs": [
    {
     "name": "stdout",
     "output_type": "stream",
     "text": [
      "None\n"
     ]
    }
   ],
   "source": [
    "dic={ 'name':  ['Awais','Zain','Arslan','Adnan','Ubaid'],\n",
    "     'age' : 20,\n",
    "     'City' : ['Pattoki','50D','Phool nagar',' Habibaad']\n",
    "    }\n",
    "print(dic.clear())"
   ]
  },
  {
   "cell_type": "code",
   "execution_count": null,
   "id": "560796b3-2d11-4912-88c1-9ce62850405a",
   "metadata": {},
   "outputs": [],
   "source": []
  }
 ],
 "metadata": {
  "kernelspec": {
   "display_name": "Python 3 (ipykernel)",
   "language": "python",
   "name": "python3"
  },
  "language_info": {
   "codemirror_mode": {
    "name": "ipython",
    "version": 3
   },
   "file_extension": ".py",
   "mimetype": "text/x-python",
   "name": "python",
   "nbconvert_exporter": "python",
   "pygments_lexer": "ipython3",
   "version": "3.13.0"
  }
 },
 "nbformat": 4,
 "nbformat_minor": 5
}
