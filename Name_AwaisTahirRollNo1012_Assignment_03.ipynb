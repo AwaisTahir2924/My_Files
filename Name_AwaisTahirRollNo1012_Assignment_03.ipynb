{
 "cells": [
  {
   "cell_type": "markdown",
   "id": "97dd878a",
   "metadata": {},
   "source": [
    "### Assignment-03 (Strings)\n",
    "- Change the notebook name with your name and Roll Number.\n",
    "- Try this as your own, no chatgpt (it's for your learning)\n",
    "- after completing the assignment, submit this book on google class room."
   ]
  },
  {
   "cell_type": "markdown",
   "id": "e2bd2715",
   "metadata": {},
   "source": [
    "Create a string variable with your name and print it.\n"
   ]
  },
  {
   "cell_type": "code",
   "execution_count": 1,
   "id": "bb419df7",
   "metadata": {},
   "outputs": [
    {
     "name": "stdout",
     "output_type": "stream",
     "text": [
      "Awais Tahir\n"
     ]
    }
   ],
   "source": [
    "string=\"Awais Tahir\"\n",
    "print(string)"
   ]
  },
  {
   "cell_type": "markdown",
   "id": "038709aa",
   "metadata": {},
   "source": [
    "Define a multiline string that includes line breaks and print it.\n"
   ]
  },
  {
   "cell_type": "code",
   "execution_count": 31,
   "id": "707d597b",
   "metadata": {},
   "outputs": [
    {
     "name": "stdout",
     "output_type": "stream",
     "text": [
      " My Name is Awais Tahir\n",
      "I'm from Pattoki \n",
      "\n"
     ]
    }
   ],
   "source": [
    "string=\"\"\" My Name is Awais Tahir\n",
    "I'm from Pattoki \n",
    "\"\"\"\n",
    "print(string)\n"
   ]
  },
  {
   "cell_type": "markdown",
   "id": "0c79c559",
   "metadata": {},
   "source": [
    "Access the first character of a string.\n"
   ]
  },
  {
   "cell_type": "code",
   "execution_count": 2,
   "id": "3dd571a7",
   "metadata": {},
   "outputs": [
    {
     "name": "stdout",
     "output_type": "stream",
     "text": [
      "A\n"
     ]
    }
   ],
   "source": [
    "string=\"AwaisTahir\"\n",
    "print(string[0])"
   ]
  },
  {
   "cell_type": "markdown",
   "id": "eea487fc",
   "metadata": {},
   "source": [
    "Access the last character of a string.\n"
   ]
  },
  {
   "cell_type": "code",
   "execution_count": 3,
   "id": "3efc26a3",
   "metadata": {},
   "outputs": [
    {
     "name": "stdout",
     "output_type": "stream",
     "text": [
      "r\n"
     ]
    }
   ],
   "source": [
    "string=\"Awais Tahir\"\n",
    "print(string[-1])\n"
   ]
  },
  {
   "cell_type": "markdown",
   "id": "eafa1f78",
   "metadata": {},
   "source": [
    "Access the second to the fifth character of a string."
   ]
  },
  {
   "cell_type": "code",
   "execution_count": 4,
   "id": "1a183435",
   "metadata": {},
   "outputs": [
    {
     "name": "stdout",
     "output_type": "stream",
     "text": [
      "w\n",
      "s\n"
     ]
    }
   ],
   "source": [
    "string=\"AwiasTahir\"\n",
    "print(string[1])\n",
    "print(string[4])\n"
   ]
  },
  {
   "cell_type": "markdown",
   "id": "345dabe1",
   "metadata": {},
   "source": [
    "Attempt to change a character within an existing string and explain the result.\n"
   ]
  },
  {
   "cell_type": "code",
   "execution_count": 7,
   "id": "4a2c3c34",
   "metadata": {},
   "outputs": [
    {
     "ename": "TypeError",
     "evalue": "'str' object does not support item assignment",
     "output_type": "error",
     "traceback": [
      "\u001b[1;31m---------------------------------------------------------------------------\u001b[0m",
      "\u001b[1;31mTypeError\u001b[0m                                 Traceback (most recent call last)",
      "Cell \u001b[1;32mIn[7], line 2\u001b[0m\n\u001b[0;32m      1\u001b[0m string\u001b[38;5;241m=\u001b[39m\u001b[38;5;124m\"\u001b[39m\u001b[38;5;124mAwais Tahir\u001b[39m\u001b[38;5;124m\"\u001b[39m\n\u001b[1;32m----> 2\u001b[0m string_change\u001b[38;5;241m=\u001b[39mstring[\u001b[38;5;241m1\u001b[39m]\u001b[38;5;241m=\u001b[39m\u001b[38;5;124m\"\u001b[39m\u001b[38;5;124mt\u001b[39m\u001b[38;5;124m\"\u001b[39m\n\u001b[0;32m      3\u001b[0m \u001b[38;5;28mprint\u001b[39m(string_change)\n",
      "\u001b[1;31mTypeError\u001b[0m: 'str' object does not support item assignment"
     ]
    }
   ],
   "source": [
    "string=\"Awais Tahir\"\n",
    "string_change=string[1]=\"t\"\n",
    "print(string_change)\n",
    "#the string are immutable that's why error are occure"
   ]
  },
  {
   "cell_type": "markdown",
   "id": "915097a4",
   "metadata": {},
   "source": [
    "\n",
    "Slice a string to obtain the first 3 characters.\n"
   ]
  },
  {
   "cell_type": "code",
   "execution_count": 8,
   "id": "eeafdee2",
   "metadata": {},
   "outputs": [
    {
     "name": "stdout",
     "output_type": "stream",
     "text": [
      "Awa\n"
     ]
    }
   ],
   "source": [
    "string=\"AwaisTahir\"\n",
    "print(string[:3])"
   ]
  },
  {
   "cell_type": "markdown",
   "id": "97f70e4d",
   "metadata": {},
   "source": [
    "Slice a string to obtain the last 4 characters.\n"
   ]
  },
  {
   "cell_type": "code",
   "execution_count": 10,
   "id": "cd07247a",
   "metadata": {},
   "outputs": [
    {
     "name": "stdout",
     "output_type": "stream",
     "text": [
      "ahir\n"
     ]
    }
   ],
   "source": [
    "string=\"Awais Tahir\"\n",
    "print(string[7:])"
   ]
  },
  {
   "cell_type": "markdown",
   "id": "db421ce3",
   "metadata": {},
   "source": [
    "Slice a string to get every second character.\n"
   ]
  },
  {
   "cell_type": "code",
   "execution_count": 11,
   "id": "a8b066a6",
   "metadata": {},
   "outputs": [
    {
     "name": "stdout",
     "output_type": "stream",
     "text": [
      "Aasai\n"
     ]
    }
   ],
   "source": [
    "string=\"AwaisTahir\"\n",
    "print(string[::2])"
   ]
  },
  {
   "cell_type": "markdown",
   "id": "ff5b4751",
   "metadata": {},
   "source": [
    "Reverse a string using slicing."
   ]
  },
  {
   "cell_type": "code",
   "execution_count": 12,
   "id": "c4c4c969",
   "metadata": {},
   "outputs": [
    {
     "name": "stdout",
     "output_type": "stream",
     "text": [
      "rihaTsiawA\n"
     ]
    }
   ],
   "source": [
    "string=\"AwaisTahir\"\n",
    "print(string[::-1])"
   ]
  },
  {
   "cell_type": "markdown",
   "id": "c8b7f82a",
   "metadata": {},
   "source": [
    "Create two string variables and concatenate them.\n",
    "\n"
   ]
  },
  {
   "cell_type": "code",
   "execution_count": 16,
   "id": "c4d4f5ae",
   "metadata": {},
   "outputs": [
    {
     "name": "stdout",
     "output_type": "stream",
     "text": [
      "AwaisTahir\n"
     ]
    }
   ],
   "source": [
    "string=\"Awais\"\n",
    "string2=\"Tahir\"\n",
    "print(string+string2)"
   ]
  },
  {
   "cell_type": "markdown",
   "id": "13e8d4b1",
   "metadata": {},
   "source": [
    "Concatenate a string with a number (convert the number to a string first)."
   ]
  },
  {
   "cell_type": "code",
   "execution_count": 17,
   "id": "cc366c5e",
   "metadata": {},
   "outputs": [
    {
     "name": "stdout",
     "output_type": "stream",
     "text": [
      "AwaisTahir1012\n"
     ]
    }
   ],
   "source": [
    "string=\"AwaisTahir\"\n",
    "string2=str(1012)\n",
    "print(string+string2)"
   ]
  },
  {
   "cell_type": "markdown",
   "id": "201b3886",
   "metadata": {},
   "source": [
    "Generate a string that repeats \"abc\" 10 times.\n",
    "\n"
   ]
  },
  {
   "cell_type": "code",
   "execution_count": 19,
   "id": "01d068c1",
   "metadata": {},
   "outputs": [
    {
     "name": "stdout",
     "output_type": "stream",
     "text": [
      " abc  abc  abc  abc  abc  abc  abc  abc  abc  abc \n"
     ]
    }
   ],
   "source": [
    "string=\" abc \"\n",
    "print(string*10)"
   ]
  },
  {
   "cell_type": "markdown",
   "id": "c668c12f",
   "metadata": {},
   "source": [
    "Create a string containing a repeating pattern of your choice."
   ]
  },
  {
   "cell_type": "code",
   "execution_count": null,
   "id": "948db73c",
   "metadata": {},
   "outputs": [],
   "source": []
  },
  {
   "cell_type": "markdown",
   "id": "597fce86",
   "metadata": {},
   "source": [
    "Convert a string to lowercase using the lower() method.\n"
   ]
  },
  {
   "cell_type": "code",
   "execution_count": 22,
   "id": "091297bd",
   "metadata": {},
   "outputs": [
    {
     "name": "stdout",
     "output_type": "stream",
     "text": [
      "awaistahir\n"
     ]
    }
   ],
   "source": [
    "string=\"AwaisTahir\"\n",
    "print(string.lower())"
   ]
  },
  {
   "cell_type": "markdown",
   "id": "e96bb408",
   "metadata": {},
   "source": [
    "\n",
    "Convert a string to uppercase using the upper() method.\n"
   ]
  },
  {
   "cell_type": "code",
   "execution_count": 23,
   "id": "a2598fc3",
   "metadata": {},
   "outputs": [
    {
     "name": "stdout",
     "output_type": "stream",
     "text": [
      "AWAISTAHIR\n"
     ]
    }
   ],
   "source": [
    "string=\"AwaisTahir\"\n",
    "print(string.upper())"
   ]
  },
  {
   "cell_type": "markdown",
   "id": "92ab5b20",
   "metadata": {},
   "source": [
    "Remove leading and trailing whitespace from a string using the strip() method.\n"
   ]
  },
  {
   "cell_type": "code",
   "execution_count": 24,
   "id": "0507e93a",
   "metadata": {},
   "outputs": [
    {
     "name": "stdout",
     "output_type": "stream",
     "text": [
      "  AwaisTahir   \n",
      "AwaisTahir\n"
     ]
    }
   ],
   "source": [
    "string=\"  AwaisTahir   \"\n",
    "print(string)\n",
    "print(string.strip())"
   ]
  },
  {
   "cell_type": "markdown",
   "id": "a91e7489",
   "metadata": {},
   "source": [
    "Check if a string starts with a specific prefix using the startswith() method.\n"
   ]
  },
  {
   "cell_type": "code",
   "execution_count": 40,
   "id": "3c01dd7d",
   "metadata": {},
   "outputs": [
    {
     "name": "stdout",
     "output_type": "stream",
     "text": [
      "True\n"
     ]
    }
   ],
   "source": [
    "string=\"AwaisTahir\"\n",
    "check=string.startswith(\"A\")\n",
    "print(check)"
   ]
  },
  {
   "cell_type": "markdown",
   "id": "4b8b4581",
   "metadata": {},
   "source": [
    "Split a string into a list of words using the split() method.\n"
   ]
  },
  {
   "cell_type": "code",
   "execution_count": 29,
   "id": "5bcc4070",
   "metadata": {},
   "outputs": [
    {
     "name": "stdout",
     "output_type": "stream",
     "text": [
      "['Awais', 'Tahir']\n"
     ]
    }
   ],
   "source": [
    "string=\"Awais Tahir\"\n",
    "print(string.split())"
   ]
  },
  {
   "cell_type": "markdown",
   "id": "37dd8ff8",
   "metadata": {},
   "source": [
    "Join a list of words into a single string using the join() method."
   ]
  },
  {
   "cell_type": "code",
   "execution_count": 39,
   "id": "473860cd",
   "metadata": {},
   "outputs": [
    {
     "name": "stdout",
     "output_type": "stream",
     "text": [
      "a b c e\n"
     ]
    }
   ],
   "source": [
    "list=['a','b','c','e']\n",
    "joined=\" \".join(list)\n",
    "print(joined)"
   ]
  },
  {
   "cell_type": "code",
   "execution_count": null,
   "id": "1af3ae45",
   "metadata": {},
   "outputs": [],
   "source": []
  }
 ],
 "metadata": {
  "kernelspec": {
   "display_name": "Python 3 (ipykernel)",
   "language": "python",
   "name": "python3"
  },
  "language_info": {
   "codemirror_mode": {
    "name": "ipython",
    "version": 3
   },
   "file_extension": ".py",
   "mimetype": "text/x-python",
   "name": "python",
   "nbconvert_exporter": "python",
   "pygments_lexer": "ipython3",
   "version": "3.12.4"
  }
 },
 "nbformat": 4,
 "nbformat_minor": 5
}
