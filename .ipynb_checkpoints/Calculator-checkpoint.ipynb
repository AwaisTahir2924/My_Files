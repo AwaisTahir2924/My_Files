{
 "cells": [
  {
   "cell_type": "code",
   "execution_count": 8,
   "id": "8bd3c083-8c81-4718-aad8-96b4e0ff0799",
   "metadata": {},
   "outputs": [
    {
     "name": "stdin",
     "output_type": "stream",
     "text": [
      "Enter the first number:  34\n",
      "Enter the second number:  32\n"
     ]
    },
    {
     "name": "stdout",
     "output_type": "stream",
     "text": [
      "Enter the operation you want to apply:\n",
      "1. Addition\n",
      "2. Subtraction\n",
      "3. Multiplication\n",
      "4. Division\n",
      "5. Exponentiation\n",
      "6. Modulus\n"
     ]
    },
    {
     "name": "stdin",
     "output_type": "stream",
     "text": [
      "Choose an operation (1/2/3/4/5/6):  6\n"
     ]
    },
    {
     "name": "stdout",
     "output_type": "stream",
     "text": [
      "2.0\n",
      "Thank you for using the calculator. If you want to perform more calculations, feel free to use it again!\n"
     ]
    }
   ],
   "source": [
    "number1 = int(input(\"Enter the first number: \"))\n",
    "number2 = int(input(\"Enter the second number: \"))\n",
    "print(\"Enter the operation you want to apply:\")\n",
    "print(\"1. Addition\")\n",
    "print(\"2. Subtraction\")\n",
    "print(\"3. Multiplication\")\n",
    "print(\"4. Division\")\n",
    "print(\"5. Exponentiation\")\n",
    "print(\"6. Modulus\")\n",
    "operation = input(\"Choose an operation (1/2/3/4/5/6): \")\n",
    "operations = {\n",
    "    '1': lambda x, y: x + y,\n",
    "    '2': lambda x, y: x - y,\n",
    "    '3': lambda x, y: x * y,\n",
    "    '4': lambda x, y: x / y if y != 0 else \"Error! Division by zero.\",\n",
    "    '5': lambda x, y: x ** y,\n",
    "    '6': lambda x, y: x % y,\n",
    "}\n",
    "result = operations.get(operation, lambda x, y: \"Invalid operation\")(number1, number2)\n",
    "print(result)\n",
    "print(\"Thank you for using the calculator. If you want to perform more calculations, feel free to use it again!\")\n"
   ]
  },
  {
   "cell_type": "code",
   "execution_count": null,
   "id": "4469b2b4-f8ba-483c-a61e-7fce443894bb",
   "metadata": {},
   "outputs": [],
   "source": []
  }
 ],
 "metadata": {
  "kernelspec": {
   "display_name": "Python 3 (ipykernel)",
   "language": "python",
   "name": "python3"
  },
  "language_info": {
   "codemirror_mode": {
    "name": "ipython",
    "version": 3
   },
   "file_extension": ".py",
   "mimetype": "text/x-python",
   "name": "python",
   "nbconvert_exporter": "python",
   "pygments_lexer": "ipython3",
   "version": "3.13.0"
  }
 },
 "nbformat": 4,
 "nbformat_minor": 5
}
