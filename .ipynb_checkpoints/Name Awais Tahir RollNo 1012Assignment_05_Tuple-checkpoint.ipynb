{
 "cells": [
  {
   "cell_type": "markdown",
   "id": "1488806a",
   "metadata": {},
   "source": [
    "### Assignment-05 (Tuple)\n",
    "- Change the notebook name with your name and Roll Number.\n",
    "- Try this as your own, no chatgpt (it's for your learning)\n",
    "- after completing the assignment, submit this book on google class room."
   ]
  },
  {
   "cell_type": "markdown",
   "id": "0f49daa5",
   "metadata": {},
   "source": [
    "    Create an empty tuple and print it.\n",
    "        "
   ]
  },
  {
   "cell_type": "code",
   "execution_count": 38,
   "id": "9f34fb22",
   "metadata": {},
   "outputs": [
    {
     "name": "stdout",
     "output_type": "stream",
     "text": [
      "()\n"
     ]
    }
   ],
   "source": [
    "tup=()\n",
    "print(tup)"
   ]
  },
  {
   "cell_type": "markdown",
   "id": "e043fa87",
   "metadata": {},
   "source": [
    "    Create a tuple of your favorite fruits and print it.\n"
   ]
  },
  {
   "cell_type": "code",
   "execution_count": 39,
   "id": "a8075e3e",
   "metadata": {},
   "outputs": [
    {
     "name": "stdout",
     "output_type": "stream",
     "text": [
      "('Apple', 'Bananas', 'Mangoes', 'Oranges')\n"
     ]
    }
   ],
   "source": [
    "tup_Fruits=('Apple','Bananas','Mangoes','Oranges',)\n",
    "print(tup_Fruits)"
   ]
  },
  {
   "cell_type": "markdown",
   "id": "63103aae",
   "metadata": {},
   "source": [
    "    Create a tuple that includes a mix of data types (integers, strings, floats).\n",
    "  "
   ]
  },
  {
   "cell_type": "code",
   "execution_count": 40,
   "id": "02d21498",
   "metadata": {},
   "outputs": [
    {
     "name": "stdout",
     "output_type": "stream",
     "text": [
      "('Awais', 1012, 3.14)\n"
     ]
    }
   ],
   "source": [
    "tup_mix=('Awais',1012,3.14)\n",
    "print(tup_mix)"
   ]
  },
  {
   "cell_type": "markdown",
   "id": "704e22bb",
   "metadata": {},
   "source": [
    "  Access the first element of a tuple.\n"
   ]
  },
  {
   "cell_type": "code",
   "execution_count": 41,
   "id": "bf90e463",
   "metadata": {},
   "outputs": [
    {
     "name": "stdout",
     "output_type": "stream",
     "text": [
      "Awais\n"
     ]
    }
   ],
   "source": [
    "tup=('Awais','Arslan','Adnan','Ubaid','Zain')\n",
    "print(tup[0])\n"
   ]
  },
  {
   "cell_type": "markdown",
   "id": "26563419",
   "metadata": {},
   "source": [
    "    Access the last element of a tuple."
   ]
  },
  {
   "cell_type": "code",
   "execution_count": 42,
   "id": "54b98b3a",
   "metadata": {},
   "outputs": [
    {
     "name": "stdout",
     "output_type": "stream",
     "text": [
      "Zain\n"
     ]
    }
   ],
   "source": [
    "tup=('Awais','Arslan','Adnan','Ubaid','Zain')\n",
    "print(tup[-1])"
   ]
  },
  {
   "cell_type": "markdown",
   "id": "15d49e96",
   "metadata": {},
   "source": [
    "Access the second and third elements of a tuple.\n"
   ]
  },
  {
   "cell_type": "code",
   "execution_count": 43,
   "id": "1b8f2886",
   "metadata": {},
   "outputs": [
    {
     "name": "stdout",
     "output_type": "stream",
     "text": [
      "Arslan\n",
      "Adnan\n"
     ]
    }
   ],
   "source": [
    "tup=('Awais','Arslan','Adnan','Ubaid','Zain')\n",
    "print(tup[1])\n",
    "print(tup[2])"
   ]
  },
  {
   "cell_type": "markdown",
   "id": "069741b2",
   "metadata": {},
   "source": [
    "\n",
    "    Slice a tuple to extract the first three elements.\n",
    "    "
   ]
  },
  {
   "cell_type": "code",
   "execution_count": 44,
   "id": "ba3f17f2",
   "metadata": {},
   "outputs": [
    {
     "name": "stdout",
     "output_type": "stream",
     "text": [
      "('Awais', 'Arslan', 'Adnan')\n"
     ]
    }
   ],
   "source": [
    "tup=('Awais','Arslan','Adnan','Ubaid','Zain')\n",
    "print(tup[:3])"
   ]
  },
  {
   "cell_type": "markdown",
   "id": "f5f8af36",
   "metadata": {},
   "source": [
    "Slice a tuple to extract the last three elements.\n",
    " "
   ]
  },
  {
   "cell_type": "code",
   "execution_count": 45,
   "id": "72b61419",
   "metadata": {},
   "outputs": [
    {
     "name": "stdout",
     "output_type": "stream",
     "text": [
      "('Adnan', 'Ubaid', 'Zain')\n"
     ]
    }
   ],
   "source": [
    "tup=('Awais','Arslan','Adnan','Ubaid','Zain')\n",
    "print(tup[2:])\n"
   ]
  },
  {
   "cell_type": "markdown",
   "id": "fbf3a8e6",
   "metadata": {},
   "source": [
    "   Slice a tuple to get every second element.\n"
   ]
  },
  {
   "cell_type": "code",
   "execution_count": 46,
   "id": "2f28222b",
   "metadata": {},
   "outputs": [
    {
     "name": "stdout",
     "output_type": "stream",
     "text": [
      "('Awais', 'Arslan', 'Adnan', 'Ubaid', 'Zain')\n"
     ]
    }
   ],
   "source": [
    "tup=('Awais','Arslan','Adnan','Ubaid','Zain')\n",
    "print(tup[:])\n"
   ]
  },
  {
   "cell_type": "markdown",
   "id": "972a3d7e",
   "metadata": {},
   "source": [
    "    Reverse a tuple using slicing."
   ]
  },
  {
   "cell_type": "code",
   "execution_count": 47,
   "id": "a0c026b2",
   "metadata": {},
   "outputs": [
    {
     "name": "stdout",
     "output_type": "stream",
     "text": [
      "('Zain', 'Ubaid', 'Adnan', 'Arslan', 'Awais')\n"
     ]
    }
   ],
   "source": [
    "tup=('Awais','Arslan','Adnan','Ubaid','Zain')\n",
    "print(tup[::-1])"
   ]
  },
  {
   "cell_type": "markdown",
   "id": "ff819f8c",
   "metadata": {},
   "source": [
    "Create two tuples and concatenate them.\n",
    "\n"
   ]
  },
  {
   "cell_type": "code",
   "execution_count": 48,
   "id": "34bb1253",
   "metadata": {},
   "outputs": [
    {
     "name": "stdout",
     "output_type": "stream",
     "text": [
      "('Awais', 'Arslan', 'Adnan', 'Ubaid')\n",
      "('Awais', 'Arslan', 'Adnan', 'Ubaid', 'Zain', 1012, 1032, 1043, 1018, 1041)\n"
     ]
    }
   ],
   "source": [
    "tup=('Awais','Arslan','Adnan','Ubaid','Zain')\n",
    "print(tup[:-1])\n",
    "tup1=(1012,1032,1043,1018,1041)\n",
    "tup2=tup+tup1\n",
    "print(tup2)"
   ]
  },
  {
   "cell_type": "markdown",
   "id": "6f81c447",
   "metadata": {},
   "source": [
    "    Repeat a tuple multiple times using the repetition operator."
   ]
  },
  {
   "cell_type": "code",
   "execution_count": 49,
   "id": "a7993e54",
   "metadata": {},
   "outputs": [
    {
     "name": "stdout",
     "output_type": "stream",
     "text": [
      "('Awais', 'Arslan', 'Adnan', 'Ubaid', 'Zain', 1012, 1032, 1043, 1018, 1041, 'Awais', 'Arslan', 'Adnan', 'Ubaid', 'Zain', 1012, 1032, 1043, 1018, 1041, 'Awais', 'Arslan', 'Adnan', 'Ubaid', 'Zain', 1012, 1032, 1043, 1018, 1041, 'Awais', 'Arslan', 'Adnan', 'Ubaid', 'Zain', 1012, 1032, 1043, 1018, 1041, 'Awais', 'Arslan', 'Adnan', 'Ubaid', 'Zain', 1012, 1032, 1043, 1018, 1041, 'Awais', 'Arslan', 'Adnan', 'Ubaid', 'Zain', 1012, 1032, 1043, 1018, 1041, 'Awais', 'Arslan', 'Adnan', 'Ubaid', 'Zain', 1012, 1032, 1043, 1018, 1041, 'Awais', 'Arslan', 'Adnan', 'Ubaid', 'Zain', 1012, 1032, 1043, 1018, 1041, 'Awais', 'Arslan', 'Adnan', 'Ubaid', 'Zain', 1012, 1032, 1043, 1018, 1041, 'Awais', 'Arslan', 'Adnan', 'Ubaid', 'Zain', 1012, 1032, 1043, 1018, 1041)\n"
     ]
    }
   ],
   "source": [
    "tup=('Awais', 'Arslan', 'Adnan', 'Ubaid', 'Zain', 1012, 1032, 1043, 1018, 1041)\n",
    "print(tup*10)"
   ]
  },
  {
   "cell_type": "markdown",
   "id": "e39bdb1d",
   "metadata": {},
   "source": [
    "Find the index of a specific element in a tuple using the index() method."
   ]
  },
  {
   "cell_type": "code",
   "execution_count": 50,
   "id": "d0887521",
   "metadata": {},
   "outputs": [
    {
     "name": "stdout",
     "output_type": "stream",
     "text": [
      "6\n"
     ]
    }
   ],
   "source": [
    "tup=('Awais', 'Arslan', 'Adnan', 'Ubaid', 'Zain', 1012, 1032, 1043, 1018, 1041)\n",
    "print(tup.index(1032))"
   ]
  },
  {
   "cell_type": "markdown",
   "id": "fc66ca7e",
   "metadata": {},
   "source": [
    "    Count the number of occurrences of a specific element in a tuple using the count() method."
   ]
  },
  {
   "cell_type": "code",
   "execution_count": 51,
   "id": "d9bf2831",
   "metadata": {},
   "outputs": [
    {
     "name": "stdout",
     "output_type": "stream",
     "text": [
      "1\n"
     ]
    }
   ],
   "source": [
    "tup_colors=('Awais', 'Arslan', 'Adnan', 'Ubaid', 'Zain', 1012, 1032, 1043, 1018, 1041)\n",
    "\n",
    "print(tup_colors.count('Awais'))"
   ]
  },
  {
   "cell_type": "markdown",
   "id": "9bdef970",
   "metadata": {},
   "source": [
    "Sort a tuple of numbers in ascending order.\n",
    "\n"
   ]
  },
  {
   "cell_type": "code",
   "execution_count": 52,
   "id": "326fca51",
   "metadata": {},
   "outputs": [
    {
     "name": "stdout",
     "output_type": "stream",
     "text": [
      "(0, 1, 2, 3, 4, 6, 7, 8, 9)\n"
     ]
    }
   ],
   "source": [
    "tup=(1,3,4,6,8,9,2,7,0)\n",
    "print(tuple(sorted(tup)))"
   ]
  },
  {
   "cell_type": "markdown",
   "id": "2b1d9be5",
   "metadata": {},
   "source": [
    "    Sort a tuple of strings in alphabetical order."
   ]
  },
  {
   "cell_type": "code",
   "execution_count": 53,
   "id": "5b0a511f",
   "metadata": {},
   "outputs": [
    {
     "name": "stdout",
     "output_type": "stream",
     "text": [
      "('Awais', 'Basit', 'Ishaaq', 'Ubaid', 'Umar') <class 'tuple'>\n"
     ]
    }
   ],
   "source": [
    "string=('Awais','Ubaid','Basit','Ishaaq','Umar',)\n",
    "order=tuple(sorted(string))\n",
    "print(order,type(order))"
   ]
  },
  {
   "cell_type": "markdown",
   "id": "0393ae63",
   "metadata": {},
   "source": [
    "Sort a tuple of tuples based on the second element of each inner tuple."
   ]
  },
  {
   "cell_type": "code",
   "execution_count": 54,
   "id": "5b0d33fd",
   "metadata": {},
   "outputs": [
    {
     "name": "stdout",
     "output_type": "stream",
     "text": [
      "((6, 0), (5, 1), (9, 2), (3, 3), (1, 9))\n"
     ]
    }
   ],
   "source": [
    "tup=((1,9),(3,3),(9,2),(6,0),(5,1))\n",
    "order_tuple=tuple(sorted(tup,key=lambda x:x[1]))\n",
    "print(order_tuple)\n",
    "                  "
   ]
  },
  {
   "cell_type": "markdown",
   "id": "65b8f449",
   "metadata": {},
   "source": [
    "Compare two tuples to see if they are equal in both value and identity."
   ]
  },
  {
   "cell_type": "code",
   "execution_count": 56,
   "id": "e09a6135",
   "metadata": {},
   "outputs": [
    {
     "name": "stdout",
     "output_type": "stream",
     "text": [
      "True\n",
      "False\n"
     ]
    }
   ],
   "source": [
    "tup1=('Awais','Ubaid','Basit','Ishaaq','Umar',)\n",
    "tup2=('Awais','Ubaid','Basit','Ishaaq','Umar')\n",
    "tup3=tup1==tup2\n",
    "tup4=tup1 is tup2\n",
    "print(tup3)\n",
    "print(tup4)"
   ]
  },
  {
   "cell_type": "markdown",
   "id": "0810cc18",
   "metadata": {},
   "source": [
    "Create a shallow copy of a tuple and observe the effects of modifying one of the tuples.\n",
    "\n"
   ]
  },
  {
   "cell_type": "code",
   "execution_count": 57,
   "id": "426bacd6",
   "metadata": {},
   "outputs": [
    {
     "name": "stdout",
     "output_type": "stream",
     "text": [
      "Orginal Tuple ('Awais', 'Arslan', 'Adnan', 'Ubaid', 'Zain', [1012, 1032, 1043, 1018, 1041, 'Basit', '1045'])\n",
      "Shallow Copy ('Awais', 'Arslan', 'Adnan', 'Ubaid', 'Zain', [1012, 1032, 1043, 1018, 1041, 'Basit', '1045'])\n"
     ]
    }
   ],
   "source": [
    "orginal_tuple=('Awais', 'Arslan', 'Adnan', 'Ubaid', 'Zain', [1012, 1032, 1043, 1018, 1041])\n",
    "Shallow_copy=orginal_tuple\n",
    "orginal_tuple[5].append('Basit')\n",
    "orginal_tuple[5].append('1045')\n",
    "print('Orginal Tuple',orginal_tuple)\n",
    "print('Shallow Copy',Shallow_copy)\n"
   ]
  },
  {
   "cell_type": "markdown",
   "id": "f14455c5",
   "metadata": {},
   "source": [
    "    Create a deep copy of a nested tuple and observe the effects of modifying one of the tuples.\n"
   ]
  },
  {
   "cell_type": "code",
   "execution_count": 62,
   "id": "4564c764",
   "metadata": {},
   "outputs": [
    {
     "name": "stdout",
     "output_type": "stream",
     "text": [
      "Orginal Tuple (1, 2, 3, 4, (10, 11))\n",
      "DeepCopy Tuple (1, 2, 3, 4, (5, 6))\n"
     ]
    }
   ],
   "source": [
    "import copy\n",
    "orginal_tuple=(1,2,3,4,(10,11))\n",
    "deep_copy=copy.deepcopy(orginal_copy)\n",
    "list1=list(deep_copy)\n",
    "list1[4]=(5,6)\n",
    "deep_tuple=tuple(list1)\n",
    "print(\"Orginal Tuple\",orginal_tuple)\n",
    "print(\"DeepCopy Tuple\",deep_tuple)"
   ]
  },
  {
   "cell_type": "markdown",
   "id": "b01879a0",
   "metadata": {},
   "source": [
    "    Pickle a tuple and save it to a file.\n"
   ]
  },
  {
   "cell_type": "code",
   "execution_count": 11,
   "id": "55ddfbd4",
   "metadata": {},
   "outputs": [
    {
     "name": "stdout",
     "output_type": "stream",
     "text": [
      "Tuple saved to tuple.pkl\n"
     ]
    }
   ],
   "source": [
    "import pickle \n",
    "tup=( 'Awais', 'Tahir','Friends','Arslan','Zain','Adnan','Ubaid',)\n",
    "filename = 'tuple.pkl'\n",
    "\n",
    "with open('tuple.pkl', 'wb') as file:\n",
    "    pickle.dump(tup,file)\n",
    "print(f'Tuple saved to {filename}')"
   ]
  },
  {
   "cell_type": "markdown",
   "id": "6874f46a",
   "metadata": {},
   "source": [
    "    Unpickle a tuple from a file and display its content."
   ]
  },
  {
   "cell_type": "code",
   "execution_count": 12,
   "id": "02f8549f",
   "metadata": {},
   "outputs": [
    {
     "name": "stdout",
     "output_type": "stream",
     "text": [
      "Loaded tuple: ('Awais', 'Tahir', 'Friends', 'Arslan', 'Zain', 'Adnan', 'Ubaid')\n"
     ]
    }
   ],
   "source": [
    "with open(filename, 'rb') as file:\n",
    "    loaded_tuple = pickle.load(file)\n",
    "\n",
    "print('Loaded tuple:', loaded_tuple)\n"
   ]
  },
  {
   "cell_type": "code",
   "execution_count": null,
   "id": "7115e8ad-55eb-4fc5-80db-1efc4f7c2bd2",
   "metadata": {},
   "outputs": [],
   "source": []
  }
 ],
 "metadata": {
  "kernelspec": {
   "display_name": "Python 3 (ipykernel)",
   "language": "python",
   "name": "python3"
  },
  "language_info": {
   "codemirror_mode": {
    "name": "ipython",
    "version": 3
   },
   "file_extension": ".py",
   "mimetype": "text/x-python",
   "name": "python",
   "nbconvert_exporter": "python",
   "pygments_lexer": "ipython3",
   "version": "3.13.0"
  }
 },
 "nbformat": 4,
 "nbformat_minor": 5
}
