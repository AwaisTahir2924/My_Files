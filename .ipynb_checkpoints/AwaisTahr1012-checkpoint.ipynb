{
 "cells": [
  {
   "cell_type": "markdown",
   "id": "1776f63f",
   "metadata": {},
   "source": [
    "### Assignment-02\n",
    "- Change the notebook name with your name and Roll Number.\n",
    "- Try this as your own, no chatgpt (it's for your learning)\n",
    "- after completing the assignment, submit this book on google class room."
   ]
  },
  {
   "cell_type": "markdown",
   "id": "5bc28c35",
   "metadata": {},
   "source": [
    "Declare and print a variable with the name \"name\" containing your name.\n"
   ]
  },
  {
   "cell_type": "code",
   "execution_count": 1,
   "id": "4eb1e464",
   "metadata": {},
   "outputs": [
    {
     "name": "stdout",
     "output_type": "stream",
     "text": [
      "Awais Tahir\n"
     ]
    }
   ],
   "source": [
    "name=\"Awais Tahir\"\n",
    "print(name)\n"
   ]
  },
  {
   "cell_type": "markdown",
   "id": "b66e672b",
   "metadata": {},
   "source": [
    "Create two variables, x and y, and swap their values without using a third variable.\n"
   ]
  },
  {
   "cell_type": "code",
   "execution_count": 2,
   "id": "5734b25c",
   "metadata": {},
   "outputs": [
    {
     "name": "stdout",
     "output_type": "stream",
     "text": [
      "12 10\n"
     ]
    }
   ],
   "source": [
    "x=10\n",
    "y=12\n",
    "x,y=y,x\n",
    "print(x,y)"
   ]
  },
  {
   "cell_type": "markdown",
   "id": "18b108ad-83a9-4219-9c22-dd0f4a7d6d81",
   "metadata": {},
   "source": []
  },
  {
   "cell_type": "markdown",
   "id": "68c5f126",
   "metadata": {},
   "source": [
    "Calculate the area of a rectangle with length and width stored in variables.\n"
   ]
  },
  {
   "cell_type": "code",
   "execution_count": 1,
   "id": "efead34a",
   "metadata": {},
   "outputs": [
    {
     "name": "stdout",
     "output_type": "stream",
     "text": [
      "35\n"
     ]
    }
   ],
   "source": [
    "#length of the rectanglar \n",
    "leng=5\n",
    "widt=7\n",
    "area=leng*widt\n",
    "print(area)\n"
   ]
  },
  {
   "cell_type": "markdown",
   "id": "e452ae4d",
   "metadata": {},
   "source": [
    "Create a variable with a long string (multi-line) and print its length."
   ]
  },
  {
   "cell_type": "code",
   "execution_count": 1,
   "id": "0f7d6636",
   "metadata": {},
   "outputs": [
    {
     "name": "stdout",
     "output_type": "stream",
     "text": [
      "69\n"
     ]
    }
   ],
   "source": [
    "long_string=\"\"\"Three double or single quotion mark are use for the multi-line string\"\"\"\n",
    "\n",
    "print(len(long_string))"
   ]
  },
  {
   "cell_type": "markdown",
   "id": "708def01",
   "metadata": {},
   "source": [
    "Create a variable to store your favorite number and print it."
   ]
  },
  {
   "cell_type": "code",
   "execution_count": 4,
   "id": "d810e261",
   "metadata": {},
   "outputs": [
    {
     "name": "stdin",
     "output_type": "stream",
     "text": [
      "Enter Your Favorite Number 45\n"
     ]
    },
    {
     "name": "stdout",
     "output_type": "stream",
     "text": [
      "Your Favorite Number 45\n"
     ]
    }
   ],
   "source": [
    "var=input(\"Enter Your Favorite Number\")\n",
    "print(\"Your Favorite Number\",var)"
   ]
  },
  {
   "cell_type": "markdown",
   "id": "9088a41e",
   "metadata": {},
   "source": [
    "Declare and assign values to multiple variables to represent the sides of a triangle. Calculate and print its perimeter.\n"
   ]
  },
  {
   "cell_type": "code",
   "execution_count": 39,
   "id": "13d9d2d2",
   "metadata": {},
   "outputs": [
    {
     "name": "stdout",
     "output_type": "stream",
     "text": [
      "The perimeter of tiangle 115\n",
      "The perimeter of triangle 115\n"
     ]
    }
   ],
   "source": [
    "Side_a=45\n",
    "Side_b=40\n",
    "Side_c=30\n",
    "perimeter=Side_a + Side_b + Side_c\n",
    "print(\"The perimeter of tiangle\", perimeter)\n",
    "#also find without declaring new varible\n",
    "print( \"The perimeter of triangle\",Side_a+Side_b+Side_c)\n",
    "\n"
   ]
  },
  {
   "cell_type": "markdown",
   "id": "a76f2d4f",
   "metadata": {},
   "source": [
    "Store the price of an item in one variable and the quantity in another. Calculate and print the total cost.\n"
   ]
  },
  {
   "cell_type": "code",
   "execution_count": 40,
   "id": "8cc9115b",
   "metadata": {},
   "outputs": [
    {
     "name": "stdout",
     "output_type": "stream",
     "text": [
      "the Total price of the item's 136.0\n",
      "The Total price of the item 136.0\n"
     ]
    }
   ],
   "source": [
    "price_per_item= 34.0\n",
    "quantity=4\n",
    "Tatal_price= price_per_item*quantity\n",
    "print(\"the Total price of the item's\", Tatal_price)\n",
    "#also find without declaring new varible\n",
    "print(\"The Total price of the item\", price_per_item*quantity)"
   ]
  },
  {
   "cell_type": "markdown",
   "id": "7d9d0793",
   "metadata": {},
   "source": [
    "Declare a constant variable for the value of pi (π) and use it to calculate the circumference of a circle with a given radius."
   ]
  },
  {
   "cell_type": "code",
   "execution_count": 41,
   "id": "254f3e92",
   "metadata": {},
   "outputs": [
    {
     "name": "stdout",
     "output_type": "stream",
     "text": [
      "The circumferacnce of circle 213.52\n",
      "The circumferance of circle 106.76\n"
     ]
    }
   ],
   "source": [
    "PI=3.14\n",
    "radius=34\n",
    "circumferance=2*PI*radius\n",
    "print(\"The circumferacnce of circle\", circumferance)\n",
    "#also find without declaring new varible\n",
    "print(\"The circumferance of circle\", PI*radius)"
   ]
  },
  {
   "cell_type": "markdown",
   "id": "2415eca0",
   "metadata": {},
   "source": [
    "Calculate the sum of two numbers, a and b."
   ]
  },
  {
   "cell_type": "code",
   "execution_count": 34,
   "id": "8eeee19d",
   "metadata": {},
   "outputs": [
    {
     "name": "stdout",
     "output_type": "stream",
     "text": [
      " The Sum of \"a\" and \"b\" 85\n",
      "The Sum of \"a\" and \"b\" 85\n"
     ]
    }
   ],
   "source": [
    "a= 45\n",
    "b=40\n",
    "c=a+b\n",
    "print(' The Sum of \"a\" and \"b\"', c)\n",
    "#also find without declaring new varible\n",
    "print('The Sum of \"a\" and \"b\"',a+b)"
   ]
  },
  {
   "cell_type": "markdown",
   "id": "2f3f9653",
   "metadata": {},
   "source": [
    "Calculate the product of two numbers, a and b.\n"
   ]
  },
  {
   "cell_type": "code",
   "execution_count": 35,
   "id": "baac0709",
   "metadata": {},
   "outputs": [
    {
     "name": "stdout",
     "output_type": "stream",
     "text": [
      " The product of a and b  1800\n",
      "The product of a and b  1800\n"
     ]
    }
   ],
   "source": [
    "a=40\n",
    "b=45\n",
    "c=a*b\n",
    "print(\" The product of a and b \", c)\n",
    "#also find without declaring new varible\n",
    "print(\"The product of a and b \", a*b)"
   ]
  },
  {
   "cell_type": "markdown",
   "id": "263bb83b",
   "metadata": {},
   "source": [
    "Calculate the result of dividing a by b (with proper error handling for division by zero).\n"
   ]
  },
  {
   "cell_type": "code",
   "execution_count": 5,
   "id": "783ef794",
   "metadata": {},
   "outputs": [
    {
     "name": "stdout",
     "output_type": "stream",
     "text": [
      "The division of a and b  1.125\n",
      "The division of a and b  1.125\n",
      "The error found because b is not equal to 0 False\n"
     ]
    }
   ],
   "source": [
    "a=45\n",
    "b=40\n",
    "c=a/b\n",
    "print(\"The division of a and b \", c)\n",
    "#also find without declaring new varible\n",
    "print(\"The division of a and b \", a/b)\n",
    "print(\"The error found because b is not equal to 0\", )\n"
   ]
  },
  {
   "cell_type": "markdown",
   "id": "1160a016",
   "metadata": {},
   "source": [
    "Calculate the square of a number x."
   ]
  },
  {
   "cell_type": "code",
   "execution_count": 20,
   "id": "ba1443de",
   "metadata": {},
   "outputs": [
    {
     "name": "stdout",
     "output_type": "stream",
     "text": [
      " The square of a 1156\n",
      " The square of a  1156\n"
     ]
    }
   ],
   "source": [
    "a=34\n",
    "x=2\n",
    "c=a**x\n",
    "print(\" The square of a\", c)\n",
    "#also find without declaring new variblere\n",
    "print(\" The square of a \", a**x)\n"
   ]
  },
  {
   "cell_type": "markdown",
   "id": "927cffd3",
   "metadata": {},
   "source": [
    "Calculate the remainder when a is divided by b."
   ]
  },
  {
   "cell_type": "code",
   "execution_count": 42,
   "id": "f95b1e5c",
   "metadata": {},
   "outputs": [
    {
     "name": "stdout",
     "output_type": "stream",
     "text": [
      "The remainder of a divided by b is : 11\n",
      " The remainder of a divided by b is: 11\n"
     ]
    }
   ],
   "source": [
    "b=23\n",
    "a=12\n",
    "c=b%a\n",
    "print(\"The remainder of a divided by b is :\",c)\n",
    "#also find without declaring new varible\n",
    "print(\" The remainder of a divided by b is:\",b%a)"
   ]
  },
  {
   "cell_type": "markdown",
   "id": "fad0381a",
   "metadata": {},
   "source": [
    " Calculate the result of dividing 17 by 3 and print the quotient and remainder."
   ]
  },
  {
   "cell_type": "code",
   "execution_count": 8,
   "id": "6bbe2ffb",
   "metadata": {},
   "outputs": [
    {
     "name": "stdout",
     "output_type": "stream",
     "text": [
      "5 The remainder is: 2 The quotient is: 5\n"
     ]
    }
   ],
   "source": [
    "num=17\n",
    "num2=3\n",
    "result=num//num2\n",
    "print(result,\"The remainder is:\",num%num2,\"The quotient is:\",num//num2)"
   ]
  },
  {
   "cell_type": "markdown",
   "id": "0abdb0ba",
   "metadata": {},
   "source": [
    "Calculate the area of a square with a given side length.\n"
   ]
  },
  {
   "cell_type": "code",
   "execution_count": 58,
   "id": "4a0edefb",
   "metadata": {},
   "outputs": [
    {
     "name": "stdout",
     "output_type": "stream",
     "text": [
      "The area of square is : 2025\n",
      "The Area of the square is : 2025\n"
     ]
    }
   ],
   "source": [
    "length=45\n",
    "area =length**2\n",
    "print(\"The area of square is :\", area)\n",
    "#also find without declaring new varible\n",
    "print(\"The Area of the square is :\", length*length)"
   ]
  },
  {
   "cell_type": "markdown",
   "id": "0c15704a",
   "metadata": {},
   "source": [
    "Calculate the average of five numbers.\n"
   ]
  },
  {
   "cell_type": "code",
   "execution_count": 69,
   "id": "ae66922d",
   "metadata": {},
   "outputs": [
    {
     "name": "stdout",
     "output_type": "stream",
     "text": [
      "The Average is: 5.6\n",
      "The Average is : 5.6\n",
      " The Average is: 5.6\n"
     ]
    }
   ],
   "source": [
    "num1=2\n",
    "num2=4\n",
    "num3=6\n",
    "num4=8\n",
    "num5=8\n",
    "Average=(num1+num2+num3+num4+num5)/5\n",
    "print(\"The Average is:\",Average)\n",
    "#also find without the creating a new variable\n",
    "print(\"The Average is :\",(num1+num2+num3+num4+num5)/5)\n",
    "# we can also find Average by creating list \n",
    "number=[10,24,43,23,45]\n",
    "average=sum(number)/len(number)\n",
    "print(\" The Average is:\",Average)"
   ]
  },
  {
   "cell_type": "markdown",
   "id": "da3cde84",
   "metadata": {},
   "source": [
    "Create a variable with a boolean value and print its opposite value.\n"
   ]
  },
  {
   "cell_type": "code",
   "execution_count": 76,
   "id": "0bb430b5",
   "metadata": {},
   "outputs": [
    {
     "name": "stdout",
     "output_type": "stream",
     "text": [
      "False\n"
     ]
    }
   ],
   "source": [
    "original_value=True\n",
    "Opposite_value=not original_value\n",
    "print(Opposite_value)"
   ]
  },
  {
   "cell_type": "markdown",
   "id": "d800b510",
   "metadata": {},
   "source": [
    "Store your birth year in a variable and calculate your age."
   ]
  },
  {
   "cell_type": "code",
   "execution_count": 9,
   "id": "94ac0a22",
   "metadata": {},
   "outputs": [
    {
     "name": "stdout",
     "output_type": "stream",
     "text": [
      "MY age is : 17\n"
     ]
    }
   ],
   "source": [
    "var=2007\n",
    "age=2024-var\n",
    "print(\"MY age is :\",age)"
   ]
  },
  {
   "cell_type": "markdown",
   "id": "193bd0c7",
   "metadata": {},
   "source": [
    "Create a variable with an integer and convert it to a float."
   ]
  },
  {
   "cell_type": "code",
   "execution_count": 67,
   "id": "c862dfa4",
   "metadata": {},
   "outputs": [
    {
     "name": "stdout",
     "output_type": "stream",
     "text": [
      "45.0\n"
     ]
    }
   ],
   "source": [
    "var=int(45)\n",
    "var1=float(var)\n",
    "print(var1)"
   ]
  },
  {
   "cell_type": "markdown",
   "id": "d6e985ae",
   "metadata": {},
   "source": [
    "Create a variable with a float and convert it to an integer."
   ]
  },
  {
   "cell_type": "code",
   "execution_count": 68,
   "id": "db782f94",
   "metadata": {},
   "outputs": [
    {
     "name": "stdout",
     "output_type": "stream",
     "text": [
      "45\n"
     ]
    }
   ],
   "source": [
    "var=float(45.5)\n",
    "var1=int(var)\n",
    "print(var1)"
   ]
  },
  {
   "cell_type": "markdown",
   "id": "03fbd24c",
   "metadata": {},
   "source": [
    "Create a variable with a string that represents an integer and convert it to an integer."
   ]
  },
  {
   "cell_type": "code",
   "execution_count": 30,
   "id": "15e98a9c",
   "metadata": {},
   "outputs": [
    {
     "name": "stdout",
     "output_type": "stream",
     "text": [
      "45\n"
     ]
    }
   ],
   "source": [
    "str=\"45\"\n",
    "var=int(str)\n",
    "print(var)"
   ]
  },
  {
   "cell_type": "markdown",
   "id": "7b82ee26",
   "metadata": {},
   "source": [
    "Create a variable with a string that represents a float and convert it to a float.\n"
   ]
  },
  {
   "cell_type": "code",
   "execution_count": 93,
   "id": "31b96ee5",
   "metadata": {},
   "outputs": [
    {
     "name": "stdout",
     "output_type": "stream",
     "text": [
      "45.0\n",
      "45.0\n"
     ]
    }
   ],
   "source": [
    "string=\"45.0\"\n",
    "print(string)\n",
    "var=float(string)\n",
    "print(var)"
   ]
  },
  {
   "cell_type": "markdown",
   "id": "55b70302",
   "metadata": {},
   "source": [
    "Create a variable with a number and convert it to a string."
   ]
  },
  {
   "cell_type": "code",
   "execution_count": 12,
   "id": "191ca6c0",
   "metadata": {},
   "outputs": [
    {
     "name": "stdout",
     "output_type": "stream",
     "text": [
      "45\n"
     ]
    }
   ],
   "source": [
    "number=45\n",
    "str_num= str(number)\n",
    "print(str_num)"
   ]
  },
  {
   "cell_type": "markdown",
   "id": "12030234",
   "metadata": {},
   "source": [
    "Calculate the absolute value of a number.\n",
    "\n"
   ]
  },
  {
   "cell_type": "code",
   "execution_count": 74,
   "id": "e6e2dbb2",
   "metadata": {},
   "outputs": [
    {
     "name": "stdout",
     "output_type": "stream",
     "text": [
      "the absolute is : 45\n"
     ]
    }
   ],
   "source": [
    "num= -45\n",
    "absolute= abs(num)\n",
    "print(\"the absolute is :\", absolute)"
   ]
  },
  {
   "cell_type": "markdown",
   "id": "0bcb4315",
   "metadata": {},
   "source": [
    "Calculate the square root of a number.\n"
   ]
  },
  {
   "cell_type": "code",
   "execution_count": 72,
   "id": "1ffc86be",
   "metadata": {},
   "outputs": [
    {
     "name": "stdout",
     "output_type": "stream",
     "text": [
      "the square root is : 7.0\n"
     ]
    }
   ],
   "source": [
    "var=49\n",
    "square_root=var**(1/2)\n",
    "print(\"the square root is :\", square_root)"
   ]
  },
  {
   "cell_type": "markdown",
   "id": "3b8743eb",
   "metadata": {},
   "source": [
    "Calculate the value of a raised to the power of b.\n"
   ]
  },
  {
   "cell_type": "code",
   "execution_count": 85,
   "id": "d278563f",
   "metadata": {},
   "outputs": [
    {
     "name": "stdout",
     "output_type": "stream",
     "text": [
      "The value is : 1336336\n"
     ]
    }
   ],
   "source": [
    "a=34\n",
    "b=4\n",
    "result=a**b\n",
    "print('The value is :',result)"
   ]
  },
  {
   "cell_type": "code",
   "execution_count": null,
   "id": "41c65c05",
   "metadata": {},
   "outputs": [],
   "source": []
  },
  {
   "cell_type": "markdown",
   "id": "d06e7a77",
   "metadata": {},
   "source": [
    "Round a float to the nearest integer."
   ]
  },
  {
   "cell_type": "code",
   "execution_count": 86,
   "id": "2f5873c3",
   "metadata": {},
   "outputs": [
    {
     "name": "stdout",
     "output_type": "stream",
     "text": [
      "The nearest integer is : 34\n"
     ]
    }
   ],
   "source": [
    "float_num=34.3\n",
    "nearest_integer=int(float_num)\n",
    "print(\"The nearest integer is :\",nearest_integer)"
   ]
  },
  {
   "cell_type": "markdown",
   "id": "34f33237",
   "metadata": {},
   "source": [
    "Combine multiple conditions using logical operators and print the result."
   ]
  },
  {
   "cell_type": "code",
   "execution_count": null,
   "id": "687d14b0",
   "metadata": {},
   "outputs": [],
   "source": []
  },
  {
   "cell_type": "markdown",
   "id": "ab20128b",
   "metadata": {},
   "source": [
    "Generate a random number between 1 and 100.**(challenging)**\n"
   ]
  },
  {
   "cell_type": "code",
   "execution_count": 11,
   "id": "43ac553b",
   "metadata": {},
   "outputs": [
    {
     "name": "stdout",
     "output_type": "stream",
     "text": [
      "The number is : 81\n"
     ]
    }
   ],
   "source": [
    "import random\n",
    "random_num=random.randint(1,100)\n",
    "print(\"The number is :\",random_num)"
   ]
  },
  {
   "cell_type": "code",
   "execution_count": null,
   "id": "08b1a18f",
   "metadata": {},
   "outputs": [],
   "source": []
  },
  {
   "cell_type": "code",
   "execution_count": null,
   "id": "614ec84c",
   "metadata": {},
   "outputs": [],
   "source": []
  }
 ],
 "metadata": {
  "kernelspec": {
   "display_name": "Python 3 (ipykernel)",
   "language": "python",
   "name": "python3"
  },
  "language_info": {
   "codemirror_mode": {
    "name": "ipython",
    "version": 3
   },
   "file_extension": ".py",
   "mimetype": "text/x-python",
   "name": "python",
   "nbconvert_exporter": "python",
   "pygments_lexer": "ipython3",
   "version": "3.12.4"
  }
 },
 "nbformat": 4,
 "nbformat_minor": 5
}
